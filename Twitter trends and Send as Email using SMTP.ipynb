{
 "cells": [
  {
   "cell_type": "code",
   "execution_count": 1,
   "metadata": {
    "collapsed": false
   },
   "outputs": [],
   "source": [
    "import tweepy\n",
    "import pandas as pd\n",
    "import smtplib\n",
    "from email.mime.multipart import MIMEMultipart\n",
    "from email.mime.text import MIMEText"
   ]
  },
  {
   "cell_type": "code",
   "execution_count": 2,
   "metadata": {
    "collapsed": true
   },
   "outputs": [],
   "source": [
    "df_credentials = pd.read_csv(\"credentials.txt\", sep = \",\") #all your twitter and gmail credentials goes in here"
   ]
  },
  {
   "cell_type": "markdown",
   "metadata": {},
   "source": [
    "<h1>Access twitter API and create an api Instance </h1>"
   ]
  },
  {
   "cell_type": "code",
   "execution_count": 3,
   "metadata": {
    "collapsed": false
   },
   "outputs": [],
   "source": [
    "auth = tweepy.OAuthHandler(df_credentials.value[0], df_credentials.value[1])\n",
    "auth.set_access_token(df_credentials.value[2],df_credentials.value[3])\n",
    "api = tweepy.API(auth)"
   ]
  },
  {
   "cell_type": "code",
   "execution_count": 4,
   "metadata": {
    "collapsed": true
   },
   "outputs": [],
   "source": [
    "#Get twitter trends object\n",
    "tweet_trends = api.trends_available()"
   ]
  },
  {
   "cell_type": "code",
   "execution_count": 5,
   "metadata": {
    "collapsed": true
   },
   "outputs": [],
   "source": [
    "#function that gets the list of twitter trends\n",
    "def getTweetTrends(ls):\n",
    "    dict_countries = {}\n",
    "    data = []\n",
    "    \n",
    "    for trend in tweet_trends:\n",
    "        if trend['name'] in ls:\n",
    "            dict_countries[trend['name']] = trend['woeid']\n",
    "            \n",
    "    for country in dict_countries.keys():\n",
    "        trends_place = api.trends_place(id = dict_countries[country])\n",
    "        \n",
    "        for terms in trends_place[0]['trends']:\n",
    "            dict_ = {}\n",
    "            #print(terms)\n",
    "            dict_['country'] = country\n",
    "            dict_['name'] = terms['name']\n",
    "            dict_['tweet_volume'] = terms['tweet_volume']\n",
    "            data.append(dict_)\n",
    "            #print(data)\n",
    "    \n",
    "    df = pd.DataFrame(data)\n",
    "    return df   "
   ]
  },
  {
   "cell_type": "code",
   "execution_count": 6,
   "metadata": {
    "collapsed": false
   },
   "outputs": [],
   "source": [
    "#pass the list of countries you would like to see the trends for and add it to the list\n",
    "countries_list = ['United States', 'India']\n",
    "df = getTweetTrends(countries_list)"
   ]
  },
  {
   "cell_type": "code",
   "execution_count": 7,
   "metadata": {
    "collapsed": false
   },
   "outputs": [],
   "source": [
    "df.sort_values(by = \"tweet_volume\", ascending = False, inplace=True)"
   ]
  },
  {
   "cell_type": "markdown",
   "metadata": {},
   "source": [
    "<h1> Send twitter trends as a email using your gmail account </h1>"
   ]
  },
  {
   "cell_type": "code",
   "execution_count": 8,
   "metadata": {
    "collapsed": true
   },
   "outputs": [],
   "source": [
    "#for reference use this link: http://stackabuse.com/how-to-send-emails-with-gmail-using-python/\n",
    "try:  \n",
    "    server_ssl = smtplib.SMTP_SSL('smtp.gmail.com', 465)\n",
    "    server_ssl.ehlo()   # optional\n",
    "except:  \n",
    "    print 'Something went wrong...'"
   ]
  },
  {
   "cell_type": "code",
   "execution_count": 9,
   "metadata": {
    "collapsed": false
   },
   "outputs": [
    {
     "name": "stdout",
     "output_type": "stream",
     "text": [
      "Email sent!\n"
     ]
    }
   ],
   "source": [
    "gmail_user = df_credentials.value[4]  #you@gmail.com \n",
    "gmail_password = df_credentials.value[5] #gmail app password\n",
    "\n",
    "sent_from = gmail_user  \n",
    "to = [df_credentials.value[4]] #Email To\n",
    "\n",
    "msg = MIMEMultipart('alternative')\n",
    "msg['Subject'] = 'Twitter Trends'\n",
    "\n",
    "part = MIMEText(df.to_html().encode('utf-8'), 'html')\n",
    "\n",
    "msg.attach(part)\n",
    "\n",
    "try:  \n",
    "    server = smtplib.SMTP_SSL('smtp.gmail.com', 465)\n",
    "    server.ehlo()\n",
    "    server.login(gmail_user, gmail_password)\n",
    "    server.sendmail(sent_from, to, msg.as_string())\n",
    "    server.close()\n",
    "\n",
    "    print 'Email sent!'\n",
    "except:  \n",
    "    print 'Something went wrong...'"
   ]
  }
 ],
 "metadata": {
  "anaconda-cloud": {},
  "kernelspec": {
   "display_name": "Python [conda root]",
   "language": "python",
   "name": "conda-root-py"
  },
  "language_info": {
   "codemirror_mode": {
    "name": "ipython",
    "version": 2
   },
   "file_extension": ".py",
   "mimetype": "text/x-python",
   "name": "python",
   "nbconvert_exporter": "python",
   "pygments_lexer": "ipython2",
   "version": "2.7.12"
  }
 },
 "nbformat": 4,
 "nbformat_minor": 0
}
